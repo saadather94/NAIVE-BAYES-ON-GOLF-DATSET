{
 "cells": [
  {
   "cell_type": "markdown",
   "id": "43be52b7-0c2a-45f4-8b00-b2ed0ec488ce",
   "metadata": {
    "tags": []
   },
   "source": [
    "#  <h1 align=\"center\" style=\"color:Brown;\"> NAIVE BAYES ML MODEL ON GOLF DATASET </h1> <h3 align=\"center\" style=\"color:red;\">  Sklearn built-in Model</h3>"
   ]
  },
  {
   "cell_type": "markdown",
   "id": "c7e632f6-82f6-4eae-8c35-80803b8a9b11",
   "metadata": {},
   "source": [
    "### READING DATA SET"
   ]
  },
  {
   "cell_type": "code",
   "execution_count": 1,
   "id": "1ab1ade0-5430-4117-9f9f-5c6706abdfa8",
   "metadata": {},
   "outputs": [],
   "source": [
    "import numpy as np \n",
    "import pandas as pd"
   ]
  },
  {
   "cell_type": "code",
   "execution_count": 2,
   "id": "29e86704-7801-4b09-8183-3f0678d46934",
   "metadata": {},
   "outputs": [
    {
     "data": {
      "text/html": [
       "<div>\n",
       "<style scoped>\n",
       "    .dataframe tbody tr th:only-of-type {\n",
       "        vertical-align: middle;\n",
       "    }\n",
       "\n",
       "    .dataframe tbody tr th {\n",
       "        vertical-align: top;\n",
       "    }\n",
       "\n",
       "    .dataframe thead th {\n",
       "        text-align: right;\n",
       "    }\n",
       "</style>\n",
       "<table border=\"1\" class=\"dataframe\">\n",
       "  <thead>\n",
       "    <tr style=\"text-align: right;\">\n",
       "      <th></th>\n",
       "      <th>Outlook</th>\n",
       "      <th>Temp</th>\n",
       "      <th>Humidity</th>\n",
       "      <th>Windy</th>\n",
       "      <th>Play Golf</th>\n",
       "    </tr>\n",
       "  </thead>\n",
       "  <tbody>\n",
       "    <tr>\n",
       "      <th>0</th>\n",
       "      <td>Rainy</td>\n",
       "      <td>Hot</td>\n",
       "      <td>High</td>\n",
       "      <td>False</td>\n",
       "      <td>No</td>\n",
       "    </tr>\n",
       "    <tr>\n",
       "      <th>1</th>\n",
       "      <td>Rainy</td>\n",
       "      <td>Hot</td>\n",
       "      <td>High</td>\n",
       "      <td>True</td>\n",
       "      <td>No</td>\n",
       "    </tr>\n",
       "    <tr>\n",
       "      <th>2</th>\n",
       "      <td>Overcast</td>\n",
       "      <td>Hot</td>\n",
       "      <td>High</td>\n",
       "      <td>False</td>\n",
       "      <td>Yes</td>\n",
       "    </tr>\n",
       "    <tr>\n",
       "      <th>3</th>\n",
       "      <td>Sunny</td>\n",
       "      <td>Mild</td>\n",
       "      <td>High</td>\n",
       "      <td>False</td>\n",
       "      <td>Yes</td>\n",
       "    </tr>\n",
       "    <tr>\n",
       "      <th>4</th>\n",
       "      <td>Sunny</td>\n",
       "      <td>Hot</td>\n",
       "      <td>Normal</td>\n",
       "      <td>False</td>\n",
       "      <td>Yes</td>\n",
       "    </tr>\n",
       "    <tr>\n",
       "      <th>5</th>\n",
       "      <td>Sunny</td>\n",
       "      <td>Cool</td>\n",
       "      <td>Normal</td>\n",
       "      <td>True</td>\n",
       "      <td>No</td>\n",
       "    </tr>\n",
       "    <tr>\n",
       "      <th>6</th>\n",
       "      <td>Overcast</td>\n",
       "      <td>Cool</td>\n",
       "      <td>Normal</td>\n",
       "      <td>True</td>\n",
       "      <td>Yes</td>\n",
       "    </tr>\n",
       "    <tr>\n",
       "      <th>7</th>\n",
       "      <td>Rainy</td>\n",
       "      <td>Mild</td>\n",
       "      <td>High</td>\n",
       "      <td>False</td>\n",
       "      <td>No</td>\n",
       "    </tr>\n",
       "    <tr>\n",
       "      <th>8</th>\n",
       "      <td>Rainy</td>\n",
       "      <td>Cool</td>\n",
       "      <td>Normal</td>\n",
       "      <td>False</td>\n",
       "      <td>Yes</td>\n",
       "    </tr>\n",
       "    <tr>\n",
       "      <th>9</th>\n",
       "      <td>Sunny</td>\n",
       "      <td>Mild</td>\n",
       "      <td>Normal</td>\n",
       "      <td>False</td>\n",
       "      <td>Yes</td>\n",
       "    </tr>\n",
       "  </tbody>\n",
       "</table>\n",
       "</div>"
      ],
      "text/plain": [
       "    Outlook  Temp Humidity  Windy Play Golf\n",
       "0     Rainy   Hot     High  False        No\n",
       "1     Rainy   Hot     High   True        No\n",
       "2  Overcast   Hot     High  False       Yes\n",
       "3     Sunny  Mild     High  False       Yes\n",
       "4     Sunny   Hot   Normal  False       Yes\n",
       "5     Sunny  Cool   Normal   True        No\n",
       "6  Overcast  Cool   Normal   True       Yes\n",
       "7     Rainy  Mild     High  False        No\n",
       "8     Rainy  Cool   Normal  False       Yes\n",
       "9     Sunny  Mild   Normal  False       Yes"
      ]
     },
     "execution_count": 2,
     "metadata": {},
     "output_type": "execute_result"
    }
   ],
   "source": [
    "data = pd.read_excel(\"C:\\\\Users\\\\RAPTOR\\\\Desktop\\\\golf-dataset-csv.xlsx\")\n",
    "data.head(10)"
   ]
  },
  {
   "cell_type": "markdown",
   "id": "d7f56b0b-e28a-4142-a75c-29fe0d018e88",
   "metadata": {
    "tags": []
   },
   "source": [
    "### COVERTING STR  VALUES TO ENCODED OBJ FOR MODEL PROCESSING"
   ]
  },
  {
   "cell_type": "code",
   "execution_count": 3,
   "id": "cec61e10-068f-43f7-b41d-f3134ece6de1",
   "metadata": {},
   "outputs": [],
   "source": [
    "X = data.iloc[:, [0,1,2,3,4]].values\n",
    "\n",
    "from sklearn.preprocessing import LabelEncoder\n",
    "le = LabelEncoder()\n",
    "X[:,0] = le.fit_transform(X[:,0])\n",
    "X[:,1] = le.fit_transform(X[:,1])\n",
    "X[:,2] = le.fit_transform(X[:,2])\n",
    "X[:,3] = le.fit_transform(X[:,3])\n",
    "X[:,4] = le.fit_transform(X[:,4])\n",
    "\n"
   ]
  },
  {
   "cell_type": "code",
   "execution_count": 4,
   "id": "385e23e7-d7aa-492b-8d92-3edd9a699ae6",
   "metadata": {},
   "outputs": [
    {
     "data": {
      "text/plain": [
       "array([[1, 1, 0, 0, 0],\n",
       "       [1, 1, 0, 1, 0],\n",
       "       [0, 1, 0, 0, 1],\n",
       "       [2, 2, 0, 0, 1],\n",
       "       [2, 1, 1, 0, 1],\n",
       "       [2, 0, 1, 1, 0],\n",
       "       [0, 0, 1, 1, 1],\n",
       "       [1, 2, 0, 0, 0],\n",
       "       [1, 0, 1, 0, 1],\n",
       "       [2, 2, 1, 0, 1],\n",
       "       [1, 2, 1, 0, 1],\n",
       "       [0, 2, 0, 1, 1],\n",
       "       [0, 1, 1, 0, 1]], dtype=object)"
      ]
     },
     "execution_count": 4,
     "metadata": {},
     "output_type": "execute_result"
    }
   ],
   "source": [
    "X"
   ]
  },
  {
   "cell_type": "code",
   "execution_count": 5,
   "id": "03821c52-85a4-4970-b870-f90833a1c242",
   "metadata": {},
   "outputs": [],
   "source": [
    "#data = pd.DataFrame(X,col=['',''])\n",
    "\n",
    "data = pd.DataFrame(X, columns = ['Outlook','Temp','Humidity','Windy','Play Golf'])\n"
   ]
  },
  {
   "cell_type": "code",
   "execution_count": 6,
   "id": "ee585e8f-ec6e-4baf-b154-0c6190f33294",
   "metadata": {},
   "outputs": [
    {
     "data": {
      "text/html": [
       "<div>\n",
       "<style scoped>\n",
       "    .dataframe tbody tr th:only-of-type {\n",
       "        vertical-align: middle;\n",
       "    }\n",
       "\n",
       "    .dataframe tbody tr th {\n",
       "        vertical-align: top;\n",
       "    }\n",
       "\n",
       "    .dataframe thead th {\n",
       "        text-align: right;\n",
       "    }\n",
       "</style>\n",
       "<table border=\"1\" class=\"dataframe\">\n",
       "  <thead>\n",
       "    <tr style=\"text-align: right;\">\n",
       "      <th></th>\n",
       "      <th>Outlook</th>\n",
       "      <th>Temp</th>\n",
       "      <th>Humidity</th>\n",
       "      <th>Windy</th>\n",
       "      <th>Play Golf</th>\n",
       "    </tr>\n",
       "  </thead>\n",
       "  <tbody>\n",
       "    <tr>\n",
       "      <th>0</th>\n",
       "      <td>1</td>\n",
       "      <td>1</td>\n",
       "      <td>0</td>\n",
       "      <td>0</td>\n",
       "      <td>0</td>\n",
       "    </tr>\n",
       "    <tr>\n",
       "      <th>1</th>\n",
       "      <td>1</td>\n",
       "      <td>1</td>\n",
       "      <td>0</td>\n",
       "      <td>1</td>\n",
       "      <td>0</td>\n",
       "    </tr>\n",
       "    <tr>\n",
       "      <th>2</th>\n",
       "      <td>0</td>\n",
       "      <td>1</td>\n",
       "      <td>0</td>\n",
       "      <td>0</td>\n",
       "      <td>1</td>\n",
       "    </tr>\n",
       "    <tr>\n",
       "      <th>3</th>\n",
       "      <td>2</td>\n",
       "      <td>2</td>\n",
       "      <td>0</td>\n",
       "      <td>0</td>\n",
       "      <td>1</td>\n",
       "    </tr>\n",
       "    <tr>\n",
       "      <th>4</th>\n",
       "      <td>2</td>\n",
       "      <td>1</td>\n",
       "      <td>1</td>\n",
       "      <td>0</td>\n",
       "      <td>1</td>\n",
       "    </tr>\n",
       "    <tr>\n",
       "      <th>5</th>\n",
       "      <td>2</td>\n",
       "      <td>0</td>\n",
       "      <td>1</td>\n",
       "      <td>1</td>\n",
       "      <td>0</td>\n",
       "    </tr>\n",
       "    <tr>\n",
       "      <th>6</th>\n",
       "      <td>0</td>\n",
       "      <td>0</td>\n",
       "      <td>1</td>\n",
       "      <td>1</td>\n",
       "      <td>1</td>\n",
       "    </tr>\n",
       "    <tr>\n",
       "      <th>7</th>\n",
       "      <td>1</td>\n",
       "      <td>2</td>\n",
       "      <td>0</td>\n",
       "      <td>0</td>\n",
       "      <td>0</td>\n",
       "    </tr>\n",
       "    <tr>\n",
       "      <th>8</th>\n",
       "      <td>1</td>\n",
       "      <td>0</td>\n",
       "      <td>1</td>\n",
       "      <td>0</td>\n",
       "      <td>1</td>\n",
       "    </tr>\n",
       "    <tr>\n",
       "      <th>9</th>\n",
       "      <td>2</td>\n",
       "      <td>2</td>\n",
       "      <td>1</td>\n",
       "      <td>0</td>\n",
       "      <td>1</td>\n",
       "    </tr>\n",
       "    <tr>\n",
       "      <th>10</th>\n",
       "      <td>1</td>\n",
       "      <td>2</td>\n",
       "      <td>1</td>\n",
       "      <td>0</td>\n",
       "      <td>1</td>\n",
       "    </tr>\n",
       "    <tr>\n",
       "      <th>11</th>\n",
       "      <td>0</td>\n",
       "      <td>2</td>\n",
       "      <td>0</td>\n",
       "      <td>1</td>\n",
       "      <td>1</td>\n",
       "    </tr>\n",
       "    <tr>\n",
       "      <th>12</th>\n",
       "      <td>0</td>\n",
       "      <td>1</td>\n",
       "      <td>1</td>\n",
       "      <td>0</td>\n",
       "      <td>1</td>\n",
       "    </tr>\n",
       "  </tbody>\n",
       "</table>\n",
       "</div>"
      ],
      "text/plain": [
       "   Outlook Temp Humidity Windy Play Golf\n",
       "0        1    1        0     0         0\n",
       "1        1    1        0     1         0\n",
       "2        0    1        0     0         1\n",
       "3        2    2        0     0         1\n",
       "4        2    1        1     0         1\n",
       "5        2    0        1     1         0\n",
       "6        0    0        1     1         1\n",
       "7        1    2        0     0         0\n",
       "8        1    0        1     0         1\n",
       "9        2    2        1     0         1\n",
       "10       1    2        1     0         1\n",
       "11       0    2        0     1         1\n",
       "12       0    1        1     0         1"
      ]
     },
     "execution_count": 6,
     "metadata": {},
     "output_type": "execute_result"
    }
   ],
   "source": [
    "data"
   ]
  },
  {
   "cell_type": "markdown",
   "id": "f1e2d8c5-93a8-4ddb-94b0-de6bb1ec9873",
   "metadata": {
    "tags": []
   },
   "source": [
    "### CREATING FEATURES & LABEL / FEATURES EXTRACTION"
   ]
  },
  {
   "cell_type": "code",
   "execution_count": 7,
   "id": "ca61dc97-caa4-4b72-be9b-3f60ec90c09d",
   "metadata": {},
   "outputs": [],
   "source": [
    "feat = data.drop(['Play Golf'],axis='columns')\n",
    "feat = feat.to_numpy()"
   ]
  },
  {
   "cell_type": "code",
   "execution_count": 8,
   "id": "1622736f-12cc-4ba2-a317-9024d23208f3",
   "metadata": {},
   "outputs": [
    {
     "data": {
      "text/plain": [
       "array([[1, 1, 0, 0],\n",
       "       [1, 1, 0, 1],\n",
       "       [0, 1, 0, 0],\n",
       "       [2, 2, 0, 0],\n",
       "       [2, 1, 1, 0],\n",
       "       [2, 0, 1, 1],\n",
       "       [0, 0, 1, 1],\n",
       "       [1, 2, 0, 0],\n",
       "       [1, 0, 1, 0],\n",
       "       [2, 2, 1, 0],\n",
       "       [1, 2, 1, 0],\n",
       "       [0, 2, 0, 1],\n",
       "       [0, 1, 1, 0]], dtype=object)"
      ]
     },
     "execution_count": 8,
     "metadata": {},
     "output_type": "execute_result"
    }
   ],
   "source": [
    "feat"
   ]
  },
  {
   "cell_type": "code",
   "execution_count": 9,
   "id": "cffc53a4-8ed9-48b3-bc28-03fe42bd9b99",
   "metadata": {},
   "outputs": [
    {
     "data": {
      "text/plain": [
       "numpy.ndarray"
      ]
     },
     "execution_count": 9,
     "metadata": {},
     "output_type": "execute_result"
    }
   ],
   "source": [
    "type(feat)"
   ]
  },
  {
   "cell_type": "code",
   "execution_count": 10,
   "id": "fbb8ff97-cc13-4594-b263-7892a40e05fe",
   "metadata": {},
   "outputs": [],
   "source": [
    "#label = data.loc[:,[\"Play Golf\"]]\n",
    "label = data[\"Play Golf\"]"
   ]
  },
  {
   "cell_type": "code",
   "execution_count": 11,
   "id": "47d46736-982b-4d3a-9f86-1a5539ff0030",
   "metadata": {},
   "outputs": [],
   "source": [
    "label = label.to_numpy()"
   ]
  },
  {
   "cell_type": "code",
   "execution_count": 12,
   "id": "498dbb37-eebf-47c4-9986-d750ecbe60f9",
   "metadata": {},
   "outputs": [
    {
     "data": {
      "text/plain": [
       "numpy.ndarray"
      ]
     },
     "execution_count": 12,
     "metadata": {},
     "output_type": "execute_result"
    }
   ],
   "source": [
    "type(label)"
   ]
  },
  {
   "cell_type": "markdown",
   "id": "4321e542-fb0b-4103-a7d2-2575062ef58b",
   "metadata": {
    "tags": []
   },
   "source": [
    "### SPLITING DATA INTO TRAIN SET AND TEST SET"
   ]
  },
  {
   "cell_type": "code",
   "execution_count": 13,
   "id": "2a0edf1c-1a14-4ed6-825a-f08dadd7567d",
   "metadata": {},
   "outputs": [],
   "source": [
    "from sklearn.model_selection import train_test_split\n",
    "X_train, X_test, y_train, y_test = train_test_split(feat,label,test_size=4)"
   ]
  },
  {
   "cell_type": "code",
   "execution_count": 14,
   "id": "a76ae8fe-98f0-4e79-8fa6-e2f66379d299",
   "metadata": {},
   "outputs": [
    {
     "data": {
      "text/plain": [
       "array([[1, 0, 1, 0],\n",
       "       [2, 1, 1, 0],\n",
       "       [2, 2, 0, 0],\n",
       "       [0, 1, 1, 0],\n",
       "       [1, 2, 0, 0],\n",
       "       [0, 0, 1, 1],\n",
       "       [1, 1, 0, 0],\n",
       "       [0, 2, 0, 1],\n",
       "       [1, 1, 0, 1]], dtype=object)"
      ]
     },
     "execution_count": 14,
     "metadata": {},
     "output_type": "execute_result"
    }
   ],
   "source": [
    "X_train"
   ]
  },
  {
   "cell_type": "code",
   "execution_count": 15,
   "id": "a664a06a-b968-430e-a111-cd94fb090ebf",
   "metadata": {},
   "outputs": [
    {
     "data": {
      "text/plain": [
       "array([[0, 1, 0, 0],\n",
       "       [1, 2, 1, 0],\n",
       "       [2, 2, 1, 0],\n",
       "       [2, 0, 1, 1]], dtype=object)"
      ]
     },
     "execution_count": 15,
     "metadata": {},
     "output_type": "execute_result"
    }
   ],
   "source": [
    "X_test"
   ]
  },
  {
   "cell_type": "code",
   "execution_count": 16,
   "id": "85aaef23-1b0b-45d3-bd3c-36b1d8e9330c",
   "metadata": {},
   "outputs": [
    {
     "data": {
      "text/plain": [
       "(numpy.ndarray, (9,))"
      ]
     },
     "execution_count": 16,
     "metadata": {},
     "output_type": "execute_result"
    }
   ],
   "source": [
    "type(y_train), y_train.shape"
   ]
  },
  {
   "cell_type": "code",
   "execution_count": null,
   "id": "44cff7e8-a9b4-47c4-b1e8-46828996259e",
   "metadata": {},
   "outputs": [],
   "source": []
  },
  {
   "cell_type": "code",
   "execution_count": 17,
   "id": "d8d109d3-3714-43c0-bbaf-139c5cbb1ca3",
   "metadata": {},
   "outputs": [],
   "source": [
    "y_train = np.array(y_train, dtype= int)"
   ]
  },
  {
   "cell_type": "code",
   "execution_count": 18,
   "id": "3d151226-9a86-4716-883d-5a44f03d21f9",
   "metadata": {
    "tags": []
   },
   "outputs": [
    {
     "data": {
      "text/plain": [
       "array([1, 1, 1, 1, 0, 1, 0, 1, 0])"
      ]
     },
     "execution_count": 18,
     "metadata": {},
     "output_type": "execute_result"
    }
   ],
   "source": [
    "y_train"
   ]
  },
  {
   "cell_type": "markdown",
   "id": "ba5b7fa4-8134-42c7-a0d7-dbf7e31dbca4",
   "metadata": {},
   "source": [
    "### TRANING MODEL "
   ]
  },
  {
   "cell_type": "code",
   "execution_count": 19,
   "id": "65ae5759-18b8-4205-a9bc-d3fb696dfbc7",
   "metadata": {},
   "outputs": [
    {
     "data": {
      "text/plain": [
       "GaussianNB()"
      ]
     },
     "execution_count": 19,
     "metadata": {},
     "output_type": "execute_result"
    }
   ],
   "source": [
    "from sklearn.naive_bayes import GaussianNB\n",
    "model = GaussianNB()\n",
    "model.fit(X_train, y_train)\n"
   ]
  },
  {
   "cell_type": "code",
   "execution_count": 20,
   "id": "e204b1ca-d39a-43f4-8825-cd3d0257671d",
   "metadata": {},
   "outputs": [],
   "source": [
    "X_test = np.array(X_test, dtype= int)\n",
    "y_test = np.array(y_test, dtype = int)\n"
   ]
  },
  {
   "cell_type": "markdown",
   "id": "85d64848-2ef4-46f5-bcca-d2dbd491959f",
   "metadata": {},
   "source": [
    "### MODEL ACCURACY & RESULTS"
   ]
  },
  {
   "cell_type": "code",
   "execution_count": 21,
   "id": "046a862e-b7d5-48e1-9331-5f26359e74cd",
   "metadata": {},
   "outputs": [
    {
     "data": {
      "text/plain": [
       "0.75"
      ]
     },
     "execution_count": 21,
     "metadata": {},
     "output_type": "execute_result"
    }
   ],
   "source": [
    "model.score(X_test,y_test)"
   ]
  },
  {
   "cell_type": "code",
   "execution_count": 22,
   "id": "39be53a7-18e0-4c13-be50-ed2fa1cd74e1",
   "metadata": {},
   "outputs": [],
   "source": [
    "\n",
    "y_pred = model.predict(X_test)\n",
    "\n",
    "# Making the Confusion Matrix\n",
    "from sklearn.metrics import confusion_matrix, accuracy_score\n",
    "ac = accuracy_score(y_test,y_pred)"
   ]
  },
  {
   "cell_type": "code",
   "execution_count": 23,
   "id": "8c03a6a5-c282-4ccb-bb7b-480940ba9adf",
   "metadata": {},
   "outputs": [
    {
     "name": "stdout",
     "output_type": "stream",
     "text": [
      "ACURACY:  0.75\n"
     ]
    }
   ],
   "source": [
    "print('ACURACY: ', ac)"
   ]
  },
  {
   "cell_type": "code",
   "execution_count": 24,
   "id": "c85080c9-161d-431c-af7a-37b24a947717",
   "metadata": {},
   "outputs": [
    {
     "name": "stdout",
     "output_type": "stream",
     "text": [
      "Confusion Matrix: \n",
      " [[0 1]\n",
      " [0 3]]\n"
     ]
    }
   ],
   "source": [
    "print(\"Confusion Matrix: \\n\",confusion_matrix(y_test, y_pred))"
   ]
  },
  {
   "cell_type": "code",
   "execution_count": 25,
   "id": "0db5116d-020c-4393-99b0-c8ebb6a38091",
   "metadata": {},
   "outputs": [
    {
     "data": {
      "text/plain": [
       "(array([[0, 1, 0, 0],\n",
       "        [1, 2, 1, 0],\n",
       "        [2, 2, 1, 0],\n",
       "        [2, 0, 1, 1]]),\n",
       " array([1, 1, 1, 0]))"
      ]
     },
     "execution_count": 25,
     "metadata": {},
     "output_type": "execute_result"
    }
   ],
   "source": [
    "X_test,y_test"
   ]
  },
  {
   "cell_type": "code",
   "execution_count": 26,
   "id": "944628ad-a86e-44bb-b96a-f9fac5fe16a6",
   "metadata": {},
   "outputs": [
    {
     "data": {
      "text/plain": [
       "array([1, 1, 1, 1])"
      ]
     },
     "execution_count": 26,
     "metadata": {},
     "output_type": "execute_result"
    }
   ],
   "source": [
    "y_pred"
   ]
  },
  {
   "cell_type": "markdown",
   "id": "60a92d6c-dfc2-4693-8577-404ff889b8db",
   "metadata": {
    "tags": []
   },
   "source": [
    "### GETTING RESULT IN TABLE FORM"
   ]
  },
  {
   "cell_type": "code",
   "execution_count": 27,
   "id": "b0386deb-ab35-4930-b28a-42d5a933a0e7",
   "metadata": {},
   "outputs": [],
   "source": [
    "xt = pd.DataFrame(X_test, columns = ['Outlook','Temp','Humidity','Windy']) #X_train\n",
    "yt = pd.DataFrame(y_test, columns = ['Play Golf(ACTUAL)'])                  #y_train   \n",
    "yp = pd.DataFrame(y_pred, columns = ['Play Golf(PREDDICTED)'])              #y_pred"
   ]
  },
  {
   "cell_type": "code",
   "execution_count": 28,
   "id": "376f5a72-7de0-4100-9626-2ff6829d2b7c",
   "metadata": {},
   "outputs": [],
   "source": [
    "Final = pd.concat([xt,yt,yp],axis='columns')"
   ]
  },
  {
   "cell_type": "code",
   "execution_count": 29,
   "id": "270eb1f7-bc55-4ba6-ab95-ad79d72749f6",
   "metadata": {},
   "outputs": [
    {
     "data": {
      "text/html": [
       "<div>\n",
       "<style scoped>\n",
       "    .dataframe tbody tr th:only-of-type {\n",
       "        vertical-align: middle;\n",
       "    }\n",
       "\n",
       "    .dataframe tbody tr th {\n",
       "        vertical-align: top;\n",
       "    }\n",
       "\n",
       "    .dataframe thead th {\n",
       "        text-align: right;\n",
       "    }\n",
       "</style>\n",
       "<table border=\"1\" class=\"dataframe\">\n",
       "  <thead>\n",
       "    <tr style=\"text-align: right;\">\n",
       "      <th></th>\n",
       "      <th>Outlook</th>\n",
       "      <th>Temp</th>\n",
       "      <th>Humidity</th>\n",
       "      <th>Windy</th>\n",
       "      <th>Play Golf(ACTUAL)</th>\n",
       "      <th>Play Golf(PREDDICTED)</th>\n",
       "    </tr>\n",
       "  </thead>\n",
       "  <tbody>\n",
       "    <tr>\n",
       "      <th>0</th>\n",
       "      <td>0</td>\n",
       "      <td>1</td>\n",
       "      <td>0</td>\n",
       "      <td>0</td>\n",
       "      <td>1</td>\n",
       "      <td>1</td>\n",
       "    </tr>\n",
       "    <tr>\n",
       "      <th>1</th>\n",
       "      <td>1</td>\n",
       "      <td>2</td>\n",
       "      <td>1</td>\n",
       "      <td>0</td>\n",
       "      <td>1</td>\n",
       "      <td>1</td>\n",
       "    </tr>\n",
       "    <tr>\n",
       "      <th>2</th>\n",
       "      <td>2</td>\n",
       "      <td>2</td>\n",
       "      <td>1</td>\n",
       "      <td>0</td>\n",
       "      <td>1</td>\n",
       "      <td>1</td>\n",
       "    </tr>\n",
       "    <tr>\n",
       "      <th>3</th>\n",
       "      <td>2</td>\n",
       "      <td>0</td>\n",
       "      <td>1</td>\n",
       "      <td>1</td>\n",
       "      <td>0</td>\n",
       "      <td>1</td>\n",
       "    </tr>\n",
       "  </tbody>\n",
       "</table>\n",
       "</div>"
      ],
      "text/plain": [
       "   Outlook  Temp  Humidity  Windy  Play Golf(ACTUAL)  Play Golf(PREDDICTED)\n",
       "0        0     1         0      0                  1                      1\n",
       "1        1     2         1      0                  1                      1\n",
       "2        2     2         1      0                  1                      1\n",
       "3        2     0         1      1                  0                      1"
      ]
     },
     "execution_count": 29,
     "metadata": {},
     "output_type": "execute_result"
    }
   ],
   "source": [
    "Final"
   ]
  },
  {
   "cell_type": "markdown",
   "id": "b8fec72a-bd73-4363-afe8-1b57e7587d5d",
   "metadata": {},
   "source": [
    "### TABEL IN ACTUAL FORMAT"
   ]
  },
  {
   "cell_type": "code",
   "execution_count": 30,
   "id": "540cca9b-1a59-489a-a63f-764ef8cb82c6",
   "metadata": {},
   "outputs": [],
   "source": [
    "def update_OUTLOOK(x):\n",
    "    for ind,val in enumerate(x):\n",
    "        if (val==0):\n",
    "            #print(Final.loc[ind,['Outlook']])\n",
    "            Final.loc[ind,['Outlook']] = 'Overcast'\n",
    "        elif(val==1):\n",
    "            Final.loc[ind,['Outlook']] = 'Rainy'\n",
    "        elif(val==2):\n",
    "            Final.loc[ind,['Outlook']] = 'Sunny'\n",
    "\n",
    "def update_Temp(x):\n",
    "    for ind,val in enumerate(x):       \n",
    "        if (val==0):\n",
    "            Final.loc[ind,['Temp']] = 'Cool'\n",
    "        elif(val==1):\n",
    "            Final.loc[ind,['Temp']] = 'Hot'\n",
    "        elif(val==2):\n",
    "            Final.loc[ind,['Temp']] = 'Mild' \n",
    "\n",
    "\n",
    "def update_Humi(x):\n",
    "    for ind,val in enumerate(x):\n",
    "        if (val==0):\n",
    "            Final.loc[ind,['Humidity']] = 'Normal'\n",
    "        elif(val==1):\n",
    "            Final.loc[ind,['Humidity']] = 'High'\n",
    "\n",
    "def update_windy(x):\n",
    "    for ind,val in enumerate(x):\n",
    "        if (val==0):\n",
    "            Final.loc[ind,['Windy']] = 'False'\n",
    "        elif(val==1):\n",
    "            Final.loc[ind,['Windy']] = 'True'\n",
    "\n",
    "\n",
    "def update_playGolf_pred(x):\n",
    "    for ind,val in enumerate(x):\n",
    "        if (val==0):\n",
    "            Final.loc[ind,['Play Golf(PREDDICTED)']] = 'No'\n",
    "        elif(val==1):\n",
    "            Final.loc[ind,['Play Golf(PREDDICTED)']] = 'Yes'\n",
    "            \n",
    "def update_playGolf_act(x):\n",
    "    for ind,val in enumerate(x):\n",
    "        if (val==0):\n",
    "            Final.loc[ind,['Play Golf(ACTUAL)']]= 'No'\n",
    "        if (val==1):\n",
    "            Final.loc[ind,['Play Golf(ACTUAL)']]= 'Yes'\n",
    "    \n",
    "   "
   ]
  },
  {
   "cell_type": "code",
   "execution_count": 31,
   "id": "1adefcc7-de0d-4d66-bbd8-37f246ade0c6",
   "metadata": {},
   "outputs": [],
   "source": [
    "update_OUTLOOK(Final['Outlook'])\n",
    "update_Temp(Final['Temp'])\n",
    "update_Humi(Final['Humidity'])\n",
    "update_windy(Final['Windy'])\n",
    "update_playGolf_act(Final['Play Golf(ACTUAL)'])\n",
    "update_playGolf_pred(Final['Play Golf(PREDDICTED)'])"
   ]
  },
  {
   "cell_type": "code",
   "execution_count": 32,
   "id": "51f590a3-3be4-42b7-bd0b-7d3e742fa3c5",
   "metadata": {},
   "outputs": [
    {
     "data": {
      "text/html": [
       "<div>\n",
       "<style scoped>\n",
       "    .dataframe tbody tr th:only-of-type {\n",
       "        vertical-align: middle;\n",
       "    }\n",
       "\n",
       "    .dataframe tbody tr th {\n",
       "        vertical-align: top;\n",
       "    }\n",
       "\n",
       "    .dataframe thead th {\n",
       "        text-align: right;\n",
       "    }\n",
       "</style>\n",
       "<table border=\"1\" class=\"dataframe\">\n",
       "  <thead>\n",
       "    <tr style=\"text-align: right;\">\n",
       "      <th></th>\n",
       "      <th>Outlook</th>\n",
       "      <th>Temp</th>\n",
       "      <th>Humidity</th>\n",
       "      <th>Windy</th>\n",
       "      <th>Play Golf(ACTUAL)</th>\n",
       "      <th>Play Golf(PREDDICTED)</th>\n",
       "    </tr>\n",
       "  </thead>\n",
       "  <tbody>\n",
       "    <tr>\n",
       "      <th>0</th>\n",
       "      <td>Overcast</td>\n",
       "      <td>Hot</td>\n",
       "      <td>Normal</td>\n",
       "      <td>False</td>\n",
       "      <td>Yes</td>\n",
       "      <td>Yes</td>\n",
       "    </tr>\n",
       "    <tr>\n",
       "      <th>1</th>\n",
       "      <td>Rainy</td>\n",
       "      <td>Mild</td>\n",
       "      <td>High</td>\n",
       "      <td>False</td>\n",
       "      <td>Yes</td>\n",
       "      <td>Yes</td>\n",
       "    </tr>\n",
       "    <tr>\n",
       "      <th>2</th>\n",
       "      <td>Sunny</td>\n",
       "      <td>Mild</td>\n",
       "      <td>High</td>\n",
       "      <td>False</td>\n",
       "      <td>Yes</td>\n",
       "      <td>Yes</td>\n",
       "    </tr>\n",
       "    <tr>\n",
       "      <th>3</th>\n",
       "      <td>Sunny</td>\n",
       "      <td>Cool</td>\n",
       "      <td>High</td>\n",
       "      <td>True</td>\n",
       "      <td>No</td>\n",
       "      <td>Yes</td>\n",
       "    </tr>\n",
       "  </tbody>\n",
       "</table>\n",
       "</div>"
      ],
      "text/plain": [
       "    Outlook  Temp Humidity  Windy Play Golf(ACTUAL) Play Golf(PREDDICTED)\n",
       "0  Overcast   Hot   Normal  False               Yes                   Yes\n",
       "1     Rainy  Mild     High  False               Yes                   Yes\n",
       "2     Sunny  Mild     High  False               Yes                   Yes\n",
       "3     Sunny  Cool     High   True                No                   Yes"
      ]
     },
     "execution_count": 32,
     "metadata": {},
     "output_type": "execute_result"
    }
   ],
   "source": [
    "Final"
   ]
  },
  {
   "cell_type": "code",
   "execution_count": null,
   "id": "3be1462d-fc0f-4ee8-89d1-3b0bc579c9be",
   "metadata": {},
   "outputs": [],
   "source": []
  }
 ],
 "metadata": {
  "kernelspec": {
   "display_name": "Python 3 (ipykernel)",
   "language": "python",
   "name": "python3"
  },
  "language_info": {
   "codemirror_mode": {
    "name": "ipython",
    "version": 3
   },
   "file_extension": ".py",
   "mimetype": "text/x-python",
   "name": "python",
   "nbconvert_exporter": "python",
   "pygments_lexer": "ipython3",
   "version": "3.9.7"
  }
 },
 "nbformat": 4,
 "nbformat_minor": 5
}
